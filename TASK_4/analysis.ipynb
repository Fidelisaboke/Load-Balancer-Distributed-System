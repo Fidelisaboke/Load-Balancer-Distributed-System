{
 "cells": [
  {
   "cell_type": "markdown",
   "id": "53b82821",
   "metadata": {},
   "source": [
    "# Load Balancer Performance Analysis\n",
    "This notebook provides insights on the performance of the implemented load balancer."
   ]
  },
  {
   "cell_type": "markdown",
   "id": "11c57a24",
   "metadata": {},
   "source": [
    "## Required Libraries"
   ]
  },
  {
   "cell_type": "code",
   "id": "93dcea29",
   "metadata": {
    "vscode": {
     "languageId": "plaintext"
    },
    "ExecuteTime": {
     "end_time": "2025-06-17T08:55:35.703325Z",
     "start_time": "2025-06-17T08:55:34.120990Z"
    }
   },
   "source": [
    "# Asynchronous requests handling\n",
    "import asyncio\n",
    "import aiohttp\n",
    "\n",
    "# Frequency counter\n",
    "from collections import Counter\n",
    "\n",
    "# For random operations - such as random request IDs\n",
    "import random\n",
    "\n",
    "# Visualization\n",
    "import matplotlib.pyplot as plt\n",
    "\n",
    "# For creating the consistent hash ring\n",
    "from consistent_hash import ConsistentHashRing"
   ],
   "outputs": [],
   "execution_count": 4
  },
  {
   "cell_type": "markdown",
   "id": "f74498d77f92c664",
   "metadata": {},
   "source": [
    "## Constants"
   ]
  },
  {
   "cell_type": "code",
   "id": "606bbac0ea7644c5",
   "metadata": {
    "ExecuteTime": {
     "end_time": "2025-06-17T08:55:49.284481Z",
     "start_time": "2025-06-17T08:55:49.279063Z"
    }
   },
   "source": [
    "NUM_REQUESTS = 10000 # Number of async requests to be executed"
   ],
   "outputs": [],
   "execution_count": 6
  },
  {
   "cell_type": "markdown",
   "id": "3a3c66c7",
   "metadata": {},
   "source": [
    "## A-1: Requests Count Per Server Instance\n",
    "- This experiment involves executing 10,000 async requests on the 3 server containers.\n",
    "- Requests count are displayed in a bar chart."
   ]
  },
  {
   "cell_type": "markdown",
   "id": "daaef898da13c4c0",
   "metadata": {},
   "source": [
    "### Asynchronous launching of 10,000 requests\n",
    "- The launching of 10,000 is achieved by using the AIOHTTP Python library, which enables for asynchronous HTTP client/server communications.\n",
    "- It is built on top of asyncio, which handles non-blocking I/O operations, allowing for concurrency."
   ]
  },
  {
   "cell_type": "code",
   "id": "4c517987",
   "metadata": {
    "vscode": {
     "languageId": "plaintext"
    },
    "ExecuteTime": {
     "end_time": "2025-06-17T08:55:05.651316Z",
     "start_time": "2025-06-17T08:55:05.631123Z"
    }
   },
   "source": [
    "URL = \"http://localhost:5000/home\"\n",
    "\n",
    "async def fetch(session, url=URL):\n",
    "    \"\"\"Gets a response from the server URL, returning the server id.\"\"\"\n",
    "    try:\n",
    "        async with session.get(url) as response:\n",
    "            data = await response.json()\n",
    "            message = data.get(\"message\", \"\")\n",
    "            server_id = message.split()[-1].split(\":\")[0]\n",
    "            return server_id\n",
    "    except Exception as e:\n",
    "        print(f\"Error fetching {url}: {e}\")\n",
    "        return None\n",
    "\n",
    "\n",
    "async def count_requests_per_server():\n",
    "    \"\"\"Counts the number of requests handled by each server.\"\"\"\n",
    "    counter = Counter()\n",
    "    async with aiohttp.ClientSession() as session:\n",
    "        tasks = [fetch(session, url=URL) for _ in range(NUM_REQUESTS)]\n",
    "        results = await asyncio.gather(*tasks)\n",
    "        for server in results:\n",
    "            if server is not None:\n",
    "                counter[server] += 1\n",
    "\n",
    "    return counter"
   ],
   "outputs": [],
   "execution_count": 1
  },
  {
   "cell_type": "markdown",
   "id": "6702fccfb5030c6a",
   "metadata": {},
   "source": [
    "### Requests Distribution Bar Chart"
   ]
  },
  {
   "cell_type": "code",
   "execution_count": 4,
   "id": "c6b4b17aaffb4104",
   "metadata": {
    "ExecuteTime": {
     "end_time": "2025-06-17T05:26:54.115115Z",
     "start_time": "2025-06-17T05:25:36.345995Z"
    }
   },
   "outputs": [
    {
     "data": {
      "image/png": "[encoded data removed]",
      "text/plain": [
       "<Figure size 640x480 with 1 Axes>"
      ]
     },
     "metadata": {},
     "output_type": "display_data"
    }
   ],
   "source": [
    "async def show_requests_distribution():\n",
    "    \"\"\"Plots a bar chart showing the number of requests per server.\"\"\"\n",
    "    requests_count = await count_requests_per_server()\n",
    "    servers = sorted(requests_count.keys())\n",
    "    counts = list(requests_count.values())\n",
    "\n",
    "    plt.bar(servers, counts)\n",
    "    plt.title(\"Request distribution Across Servers\")\n",
    "    plt.xlabel(\"Servers\")\n",
    "    plt.ylabel(\"Requests\")\n",
    "    plt.show()\n",
    "\n",
    "await show_requests_distribution()"
   ]
  },
  {
   "cell_type": "markdown",
   "id": "d415251a6fb95950",
   "metadata": {},
   "source": [
    "### Observations\n",
    "From the graph, most of the requests (more than 90%) are handled by server1, with the rest handling a fairly even number of requests. This may be caused by the hash function mapping requests to servers, which may be returning hash values that direct requests to server1. This represents an imbalance in the number of requests handled across the 3 servers, as server1 handles a large number of requests, leaving the rest of the servers under-utilised."
   ]
  },
  {
   "cell_type": "markdown",
   "id": "2f30e1a1f08e6380",
   "metadata": {},
   "source": [
    "## A-2: Average Load of Servers for N = 2 to 6"
   ]
  },
  {
   "cell_type": "markdown",
   "id": "240b827358d430b8",
   "metadata": {},
   "source": [
    "- This experiment involves iteratively increasing the number of servers from 2 to 6 while launching async requests."
   ]
  },
  {
   "cell_type": "code",
   "id": "7c6bcc13e0e688db",
   "metadata": {
    "ExecuteTime": {
     "end_time": "2025-06-17T08:55:05.855905Z",
     "start_time": "2025-06-17T08:55:05.843738Z"
    }
   },
   "source": [
    "SERVER_RANGE = range(2, 7)\n",
    "AVERAGES = []\n",
    "\n",
    "async def fetch_server(ring):\n",
    "    \"\"\"Gets the server for a particular request.\"\"\"\n",
    "    request_id = random.randint(100000, 999999)\n",
    "    server = ring.get_server_for_request(request_id)\n",
    "    return server\n",
    "\n",
    "\n",
    "async def run_simulation(num_servers):\n",
    "    \"\"\"Creates a hash ring and simulates async requests for a set number of servers.\"\"\"\n",
    "    servers = [f\"server{i + 1}:5000\" for i in range(num_servers)]\n",
    "    ring = ConsistentHashRing(servers=servers, slots=512, virtual_nodes=9)\n",
    "    counter = Counter()\n",
    "\n",
    "    # Count requests per server\n",
    "    async with aiohttp.ClientSession() as session:\n",
    "        tasks = [fetch_server(ring) for _ in range(NUM_REQUESTS)]\n",
    "        results = await asyncio.gather(*tasks)\n",
    "        for server in results:\n",
    "            counter[server] += 1\n",
    "\n",
    "    loads = list(counter.values())\n",
    "    avg_load = sum(loads) / num_servers\n",
    "    return avg_load"
   ],
   "outputs": [],
   "execution_count": 2
  },
  {
   "cell_type": "markdown",
   "id": "4729df2dfdda3a97",
   "metadata": {},
   "source": [
    "## A Line Chart Showing Average Load against No. of Servers"
   ]
  },
  {
   "cell_type": "code",
   "execution_count": 6,
   "id": "1f711423fcb1a873",
   "metadata": {
    "ExecuteTime": {
     "end_time": "2025-06-17T05:27:23.190862Z",
     "start_time": "2025-06-17T05:27:22.259679Z"
    }
   },
   "outputs": [
    {
     "name": "stdout",
     "output_type": "stream",
     "text": [
      "N=2, Avg load: 5000.00\n",
      "N=3, Avg load: 3333.33\n",
      "N=4, Avg load: 2500.00\n",
      "N=5, Avg load: 2000.00\n",
      "N=6, Avg load: 1666.67\n"
     ]
    },
    {
     "data": {
      "image/png": "[encoded data removed]",
      "text/plain": [
       "<Figure size 640x480 with 1 Axes>"
      ]
     },
     "metadata": {},
     "output_type": "display_data"
    }
   ],
   "source": [
    "async def show_average_load():\n",
    "    \"\"\"Plots the average load against number of servers N.\"\"\"\n",
    "    for N in SERVER_RANGE:\n",
    "        avg = await run_simulation(N)\n",
    "        print(f\"N={N}, Avg load: {avg:.2f}\")\n",
    "        AVERAGES.append(avg)\n",
    "\n",
    "    plt.plot(list(SERVER_RANGE), AVERAGES, marker='o')\n",
    "    plt.title(\"Avg Load against Number of Servers\")\n",
    "    plt.xlabel(\"Servers (N)\")\n",
    "    plt.ylabel(\"Avg Load\")\n",
    "    plt.grid()\n",
    "    plt.show()\n",
    "\n",
    "await show_average_load()"
   ]
  },
  {
   "metadata": {},
   "cell_type": "markdown",
   "source": [
    "### Observations\n",
    "From the line chart, the average number of requests being handled per server is inversely proportional to the number of servers being handled by the load balancer. This behaviour is expected because more servers means fewer requests routed to a specific server, showing a case of horizontal scaling."
   ],
   "id": "7a963b44caef2744"
  },
  {
   "metadata": {},
   "cell_type": "markdown",
   "source": [
    "## A-3: Failure Detection and Handling\n",
    "- This experiment analyses how the load balancer handles server failures."
   ],
   "id": "46cb16a99a839231"
  },
  {
   "metadata": {},
   "cell_type": "markdown",
   "source": "### Testing the Load Balancer Endpoints",
   "id": "cd7320ca94dcd65e"
  },
  {
   "metadata": {
    "ExecuteTime": {
     "end_time": "2025-06-17T07:00:25.499863Z",
     "start_time": "2025-06-17T07:00:24.304453Z"
    }
   },
   "cell_type": "code",
   "source": [
    "# Requests module\n",
    "import requests"
   ],
   "id": "68e3936e53f79826",
   "outputs": [],
   "execution_count": 7
  },
  {
   "metadata": {},
   "cell_type": "markdown",
   "source": "### 1. GET `/rep`",
   "id": "ebd7ed7624d74f7f"
  },
  {
   "metadata": {
    "ExecuteTime": {
     "end_time": "2025-06-17T07:01:42.187853Z",
     "start_time": "2025-06-17T07:01:42.171592Z"
    }
   },
   "cell_type": "code",
   "source": [
    "response = requests.get(\"http://localhost:5000/rep\")\n",
    "print(f\"Status Code: {response.status_code}\")\n",
    "print(response.json())"
   ],
   "id": "e2566a3ebb0996b8",
   "outputs": [
    {
     "name": "stdout",
     "output_type": "stream",
     "text": [
      "Status Code: 200\n",
      "{'message': {'N': 3, 'replicas': ['server1:5000', 'server2:5000', 'server3:5000'], 'status': 'successful'}}\n"
     ]
    }
   ],
   "execution_count": 9
  },
  {
   "metadata": {},
   "cell_type": "markdown",
   "source": "### 2. POST `/add`",
   "id": "a49f0f079da19a97"
  },
  {
   "metadata": {
    "ExecuteTime": {
     "end_time": "2025-06-17T07:04:51.765220Z",
     "start_time": "2025-06-17T07:04:51.752581Z"
    }
   },
   "cell_type": "code",
   "source": [
    "payload = {\n",
    "    \"n\" : 2,\n",
    "    \"hostnames\" : [\"S5\", \"S8\"]\n",
    "}\n",
    "\n",
    "response = requests.post(\"http://localhost:5000/add\", json=payload)\n",
    "print(f\"Status Code: {response.status_code}\")\n",
    "print(response.json())"
   ],
   "id": "7a6c0d102ce3ffb6",
   "outputs": [
    {
     "name": "stdout",
     "output_type": "stream",
     "text": [
      "Status Code: 200\n",
      "{'message': {'N': 5, 'replicas': ['server1:5000', 'server2:5000', 'server3:5000', 'S5', 'S8'], 'status': 'successful'}}\n"
     ]
    }
   ],
   "execution_count": 18
  },
  {
   "metadata": {},
   "cell_type": "markdown",
   "source": "### 3. DELETE `/rm`",
   "id": "cae0800d9c3e18f6"
  },
  {
   "metadata": {
    "ExecuteTime": {
     "end_time": "2025-06-17T07:04:58.644928Z",
     "start_time": "2025-06-17T07:04:58.633674Z"
    }
   },
   "cell_type": "code",
   "source": [
    "payload = {\n",
    "    \"n\" : 2,\n",
    "    \"hostnames\" : [\"S5\", \"S8\"]\n",
    "}\n",
    "\n",
    "response = requests.delete(\"http://localhost:5000/rm\", json=payload)\n",
    "print(f\"Status Code: {response.status_code}\")\n",
    "print(response.json())"
   ],
   "id": "af67b3180e7d6317",
   "outputs": [
    {
     "name": "stdout",
     "output_type": "stream",
     "text": [
      "Status Code: 200\n",
      "{'message': {'N': 3, 'replicas': ['server1:5000', 'server2:5000', 'server3:5000'], 'status': 'successful'}}\n"
     ]
    }
   ],
   "execution_count": 19
  },
  {
   "metadata": {},
   "cell_type": "markdown",
   "source": "### 4. Invalid path",
   "id": "16fa8f855527d8a3"
  },
  {
   "metadata": {
    "ExecuteTime": {
     "end_time": "2025-06-17T07:59:02.762209Z",
     "start_time": "2025-06-17T07:59:02.752433Z"
    }
   },
   "cell_type": "code",
   "source": [
    "response = requests.get(\"http://localhost:5000/other\")\n",
    "print(f\"Status Code: {response.status_code}\")\n",
    "print(response.json())"
   ],
   "id": "fb38fecedd73b286",
   "outputs": [
    {
     "name": "stdout",
     "output_type": "stream",
     "text": [
      "Status Code: 400\n",
      "{'message': \"Error: 'other' endpoint not supported\", 'status': 'failure'}\n"
     ]
    }
   ],
   "execution_count": 60
  },
  {
   "metadata": {},
   "cell_type": "markdown",
   "source": [
    "### Testing Failure of One Server\n",
    "- Launching 10 requests to the `/home` endpoint:"
   ],
   "id": "f0ffaef2724cb4bc"
  },
  {
   "metadata": {
    "ExecuteTime": {
     "end_time": "2025-06-17T07:59:31.310639Z",
     "start_time": "2025-06-17T07:59:31.223875Z"
    }
   },
   "cell_type": "code",
   "source": [
    "for _ in range(10):\n",
    "    try:\n",
    "        response = requests.get(\"http://localhost:5000/home\", timeout=2)\n",
    "        print(response.status_code, response.json())\n",
    "    except requests.exceptions.RequestException as e:\n",
    "        print(\"Request failed:\", e)"
   ],
   "id": "f4062dc30f6442f3",
   "outputs": [
    {
     "name": "stdout",
     "output_type": "stream",
     "text": [
      "200 {'message': 'Hello from Server: server1', 'status': 'successful'}\n",
      "200 {'message': 'Hello from Server: server3', 'status': 'successful'}\n",
      "200 {'message': 'Hello from Server: server1', 'status': 'successful'}\n",
      "200 {'message': 'Hello from Server: server1', 'status': 'successful'}\n",
      "200 {'message': 'Hello from Server: server1', 'status': 'successful'}\n",
      "200 {'message': 'Hello from Server: server1', 'status': 'successful'}\n",
      "200 {'message': 'Hello from Server: server1', 'status': 'successful'}\n",
      "200 {'message': 'Hello from Server: server1', 'status': 'successful'}\n",
      "200 {'message': 'Hello from Server: server1', 'status': 'successful'}\n",
      "200 {'message': 'Hello from Server: server1', 'status': 'successful'}\n"
     ]
    }
   ],
   "execution_count": 84
  },
  {
   "metadata": {},
   "cell_type": "markdown",
   "source": "- Stopping `server1` from running to simulate some sort of failure:",
   "id": "866a0c9d712d8f58"
  },
  {
   "metadata": {
    "ExecuteTime": {
     "end_time": "2025-06-17T07:59:46.521041Z",
     "start_time": "2025-06-17T07:59:36.079229Z"
    }
   },
   "cell_type": "code",
   "source": [
    "import subprocess\n",
    "server_container = \"task_3-server1-1\"\n",
    "try:\n",
    "    subprocess.run([\"docker\", \"stop\", server_container])\n",
    "    print(f\"Container stopped: {server_container}\")\n",
    "except subprocess.CalledProcessError as e:\n",
    "    print(f\"Failed to stop container {server_container}: {e}\")"
   ],
   "id": "f407872afe6841c8",
   "outputs": [
    {
     "name": "stdout",
     "output_type": "stream",
     "text": [
      "task_3-server1-1\n",
      "Container stopped: task_3-server1-1\n"
     ]
    }
   ],
   "execution_count": 85
  },
  {
   "metadata": {},
   "cell_type": "markdown",
   "source": "- Request routing after server failure:",
   "id": "4b8bf308c5f39581"
  },
  {
   "metadata": {
    "ExecuteTime": {
     "end_time": "2025-06-17T08:00:25.165418Z",
     "start_time": "2025-06-17T08:00:25.039724Z"
    }
   },
   "cell_type": "code",
   "source": [
    "for _ in range(10):\n",
    "    try:\n",
    "        response = requests.get(\"http://localhost:5000/home\", timeout=2)\n",
    "        print(response.status_code, response.json())\n",
    "    except requests.exceptions.RequestException as e:\n",
    "        print(\"Request failed:\", e)"
   ],
   "id": "bf2ab4751dc01441",
   "outputs": [
    {
     "name": "stdout",
     "output_type": "stream",
     "text": [
      "200 {'message': 'Hello from Server: server3', 'status': 'successful'}\n",
      "200 {'message': 'Hello from Server: server2', 'status': 'successful'}\n",
      "200 {'message': 'Hello from Server: server2', 'status': 'successful'}\n",
      "200 {'message': 'Hello from Server: server2', 'status': 'successful'}\n",
      "200 {'message': 'Hello from Server: server2', 'status': 'successful'}\n",
      "200 {'message': 'Hello from Server: server2', 'status': 'successful'}\n",
      "200 {'message': 'Hello from Server: server2', 'status': 'successful'}\n",
      "200 {'message': 'Hello from Server: server2', 'status': 'successful'}\n",
      "200 {'message': 'Hello from Server: server2', 'status': 'successful'}\n",
      "200 {'message': 'Hello from Server: server2', 'status': 'successful'}\n"
     ]
    }
   ],
   "execution_count": 119
  },
  {
   "metadata": {},
   "cell_type": "markdown",
   "source": "## A-4: Impact of Hash Function Modification on Request Count and Average Load Per Server",
   "id": "2b725a92f0a9a1ad"
  },
  {
   "metadata": {},
   "cell_type": "markdown",
   "source": "- For this experiment, the hash functions are modified, and the impact on the requests count and average load per server is analysed.",
   "id": "98b859687095742"
  },
  {
   "metadata": {},
   "cell_type": "markdown",
   "source": [
    "The new hash functions for the requests and servers to be used:\n",
    "- Request Hash Function: $\\quad H(i) = (3 \\cdot i) \\mod S$\n",
    "- Server Hash Function: $\\quad \\phi(i, j) = (i^2 + 4 \\cdot j) \\mod S$\n",
    "\n",
    "Where:\n",
    "\\begin{align*}\n",
    "i & : \\text{Request or Server index} \\\\\n",
    "j & : \\text{Replica index (virtual node)} \\\\\n",
    "S & : \\text{Total number of hash slots in the ring}\n",
    "\\end{align*}\n"
   ],
   "id": "22a144c0d97d9b00"
  },
  {
   "metadata": {},
   "cell_type": "markdown",
   "source": "- Programatically, these methods will be modified in the `ConsistentHashRing` class:",
   "id": "35971f8abc237e6d"
  },
  {
   "metadata": {
    "ExecuteTime": {
     "end_time": "2025-06-17T08:11:49.437355Z",
     "start_time": "2025-06-17T08:11:49.415684Z"
    }
   },
   "cell_type": "code",
   "source": [
    "def H(self, i):\n",
    "    \"\"\"Returns the slot to which the request is routed.\"\"\"\n",
    "    hash_value = i * 3 # Modified request hash function\n",
    "    return hash_value % self.slots\n",
    "\n",
    "def Phi(self, i, j):\n",
    "    \"\"\"Returns the slot to which the server is located.\"\"\"\n",
    "    key = f\"{i}-{j}\"\n",
    "    hash_value = (i**2) + (j*4) # Modified server hash function\n",
    "    return hash_value % self.slots\n"
   ],
   "id": "32948d9ca3f95038",
   "outputs": [],
   "execution_count": 120
  },
  {
   "metadata": {},
   "cell_type": "markdown",
   "source": "## Requests Distribution Bar Chart",
   "id": "b75d9df077a819c5"
  },
  {
   "metadata": {
    "ExecuteTime": {
     "end_time": "2025-06-17T08:40:00.991821Z",
     "start_time": "2025-06-17T08:38:28.366613Z"
    }
   },
   "cell_type": "code",
   "source": [
    "async def show_requests_distribution():\n",
    "    \"\"\"Plots a bar chart showing the number of requests per server.\"\"\"\n",
    "    requests_count = await count_requests_per_server()\n",
    "    servers = sorted(requests_count.keys())\n",
    "    counts = list(requests_count.values())\n",
    "\n",
    "    plt.bar(servers, counts)\n",
    "    plt.title(\"Request distribution Across Servers\")\n",
    "    plt.xlabel(\"Servers\")\n",
    "    plt.ylabel(\"Requests\")\n",
    "    plt.show()\n",
    "\n",
    "await show_requests_distribution()"
   ],
   "id": "808781f107142ca1",
   "outputs": [
    {
     "data": {
      "text/plain": [
       "<Figure size 640x480 with 1 Axes>"
      ],
      "image/png": "[encoded data removed]"
     },
     "metadata": {},
     "output_type": "display_data"
    }
   ],
   "execution_count": 123
  },
  {
   "metadata": {},
   "cell_type": "markdown",
   "source": "## Average Load against No. of Servers Line Chart",
   "id": "3cdcb8ba27cb18a3"
  },
  {
   "metadata": {
    "ExecuteTime": {
     "end_time": "2025-06-17T08:55:55.957841Z",
     "start_time": "2025-06-17T08:55:53.877015Z"
    }
   },
   "cell_type": "code",
   "source": [
    "async def show_average_load():\n",
    "    \"\"\"Plots the average load against number of servers N.\"\"\"\n",
    "    for N in SERVER_RANGE:\n",
    "        avg = await run_simulation(N)\n",
    "        print(f\"N={N}, Avg load: {avg:.2f}\")\n",
    "        AVERAGES.append(avg)\n",
    "\n",
    "    plt.plot(list(SERVER_RANGE), AVERAGES, marker='o')\n",
    "    plt.title(\"Avg Load against Number of Servers\")\n",
    "    plt.xlabel(\"Servers (N)\")\n",
    "    plt.ylabel(\"Avg Load\")\n",
    "    plt.grid()\n",
    "    plt.show()\n",
    "\n",
    "await show_average_load()"
   ],
   "id": "53251c001e33ba85",
   "outputs": [
    {
     "name": "stdout",
     "output_type": "stream",
     "text": [
      "N=2, Avg load: 5000.00\n",
      "N=3, Avg load: 3333.33\n",
      "N=4, Avg load: 2500.00\n",
      "N=5, Avg load: 2000.00\n",
      "N=6, Avg load: 1666.67\n"
     ]
    },
    {
     "data": {
      "text/plain": [
       "<Figure size 640x480 with 1 Axes>"
      ],
      "image/png": "[encoded data removed]"
     },
     "metadata": {},
     "output_type": "display_data"
    }
   ],
   "execution_count": 7
  }
 ],
 "metadata": {
  "kernelspec": {
   "display_name": "Python 3 (ipykernel)",
   "language": "python",
   "name": "python3"
  },
  "language_info": {
   "codemirror_mode": {
    "name": "ipython",
    "version": 3
   },
   "file_extension": ".py",
   "mimetype": "text/x-python",
   "name": "python",
   "nbconvert_exporter": "python",
   "pygments_lexer": "ipython3",
   "version": "3.12.3"
  }
 },
 "nbformat": 4,
 "nbformat_minor": 5
}
